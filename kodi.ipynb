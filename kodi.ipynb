{
 "cells": [
  {
   "cell_type": "code",
   "execution_count": 1,
   "id": "7c49a861-2d78-42bf-b199-84a9d41a7e81",
   "metadata": {},
   "outputs": [],
   "source": [
    "graph = {\n",
    "    'Atlanta': {'Charleston': 2, 'Miami': 5, 'Nashville': 1, 'New Orleans': 4, 'Raleigh': 2},\n",
    "    'Boston': {'Montreal': 2, 'New York': 2},\n",
    "    'Calgary': {'Helena': 4, 'Seattle': 4, 'Vancouver': 3, 'Winnipeg': 6},\n",
    "    'Charleston': {'Atlanta': 2, 'Miami': 4, 'Raleigh': 2},\n",
    "    'Chicago': {'Duluth': 3, 'Omaha': 4, 'Pittsburgh': 3, 'Saint Louis': 2, 'Toronto': 4},\n",
    "    'Dallas': {'El Paso': 4, 'Houston': 1, 'Little Rock': 2, 'Oklahoma City': 2},\n",
    "    'Denver': {'Helena': 4, 'Kansas City': 4, 'Oklahoma City': 4, 'Phoenix': 5, 'Salt Lake City': 3, 'Santa Fe': 2},\n",
    "    'Duluth': {'Chicago': 3, 'Helena': 6, 'Kansas City': 5, 'Omaha': 2, 'Sault St. Marie': 3, 'Toronto': 6, 'Winnipeg': 4},\n",
    "    'El Paso': {'Dallas': 4, 'Houston': 6, 'Los Angeles': 6, 'Oklahoma City': 5, 'Phoenix': 3, 'Santa Fe': 2},\n",
    "    'Helena': {'Calgary': 4, 'Denver': 4, 'Duluth': 6, 'Omaha': 5, 'Salt Lake City': 3, 'Seattle': 6, 'Winnipeg': 4},\n",
    "    'Houston': {'Dallas': 1, 'El Paso': 6, 'New Orleans': 2},\n",
    "    'Kansas City': {'Denver': 4, 'Duluth': 5, 'Omaha': 1, 'Oklahoma City': 2, 'Saint Louis': 2},\n",
    "    'Las Vegas': {'Los Angeles': 2, 'Salt Lake City': 3},\n",
    "    'Little Rock': {'Dallas': 2, 'Nashville': 3, 'New Orleans': 3, 'Oklahoma City': 2, 'Saint Louis': 2},\n",
    "    'Los Angeles': {'El Paso': 6, 'Las Vegas': 2, 'Phoenix': 3, 'San Francisco': 3},\n",
    "    'Miami': {'Atlanta': 5, 'Charleston': 4, 'New Orleans': 6},\n",
    "    'Montreal': {'Boston': 2, 'New York': 3, 'Sault St. Marie': 5, 'Toronto': 3},\n",
    "    'Nashville': {'Atlanta': 1, 'Little Rock': 3, 'Pittsburgh': 4, 'Raleigh': 3, 'Saint Louis': 2},\n",
    "    'New Orleans': {'Atlanta': 4, 'Houston': 2, 'Little Rock': 3, 'Miami': 6},\n",
    "    'New York': {'Boston': 2, 'Montreal': 3, 'Pittsburgh': 2, 'Washington': 2},\n",
    "    'Oklahoma City': {'Dallas': 2, 'Denver': 4, 'El Paso': 5, 'Kansas City': 2, 'Little Rock': 2},\n",
    "    'Omaha': {'Chicago': 4, 'Denver': 4, 'Duluth': 2, 'Helena': 5, 'Kansas City': 1},\n",
    "    'Phoenix': {'Denver': 5, 'El Paso': 3, 'Los Angeles': 3, 'Santa Fe': 3},\n",
    "    'Pittsburgh': {'Chicago': 3, 'Nashville': 4, 'New York': 2, 'Raleigh': 2, 'Saint Louis': 5, 'Toronto': 2, 'Washington': 2},\n",
    "    'Portland': {'Salt Lake City': 6, 'San Francisco': 5, 'Seattle': 1},\n",
    "    'Raleigh': {'Atlanta': 2, 'Charleston': 2, 'Nashville': 3, 'Pittsburgh': 2, 'Washington': 2},\n",
    "    'Saint Louis': {'Chicago': 2, 'Kansas City': 2, 'Little Rock': 2, 'Nashville': 2, 'Pittsburgh': 5},\n",
    "    'Salt Lake City': {'Denver': 3, 'Helena': 3, 'Las Vegas': 3, 'Portland': 6, 'San Francisco': 5},\n",
    "    'San Francisco': {'Los Angeles': 3, 'Portland': 5, 'Salt Lake City': 5},\n",
    "    'Santa Fe': {'Denver': 2, 'El Paso': 2, 'Phoenix': 3},\n",
    "    'Seattle': {'Calgary': 4, 'Helena': 6, 'Portland': 1, 'Vancouver': 1},\n",
    "    'Sault St. Marie': {'Duluth': 3, 'Montreal': 5, 'Toronto': 2, 'Winnipeg': 6},\n",
    "    'Toronto': {'Chicago': 4, 'Duluth': 6, 'Montreal': 3, 'Pittsburgh': 2, 'Sault St. Marie': 2},\n",
    "    'Vancouver': {'Calgary': 3, 'Seattle': 1},\n",
    "    'Washington': {'New York': 2, 'Pittsburgh': 2, 'Raleigh': 2},\n",
    "    'Winnipeg': {'Calgary': 6, 'Duluth': 4, 'Helena': 4, 'Sault St. Marie': 6}\n",
    "}\n"
   ]
  },
  {
   "cell_type": "code",
   "execution_count": 2,
   "id": "8feefe3d-5cf5-40f7-b695-a56db3996053",
   "metadata": {},
   "outputs": [],
   "source": [
    "def score_route(trains):\n",
    "    if trains == 1:\n",
    "        return 1\n",
    "    elif trains == 2:\n",
    "        return 2\n",
    "    elif trains == 3:\n",
    "        return 4\n",
    "    elif trains == 4:\n",
    "        return 7\n",
    "    elif trains == 5:\n",
    "        return 10\n",
    "    elif trains == 6:\n",
    "        return 15\n",
    "    else:\n",
    "        return 0\n"
   ]
  },
  {
   "cell_type": "code",
   "execution_count": 3,
   "id": "ccaa0f2c-ea6a-407d-ac4e-319dc1cb17a7",
   "metadata": {},
   "outputs": [
    {
     "name": "stdout",
     "output_type": "stream",
     "text": [
      "Highest scoring path: [('Portland', 'Salt Lake City'), ('Salt Lake City', 'Helena'), ('Helena', 'Duluth'), ('Duluth', 'Toronto'), ('Toronto', 'Montreal'), ('Montreal', 'New York'), ('New York', 'Pittsburgh'), ('Pittsburgh', 'Nashville'), ('Nashville', 'Atlanta')]\n",
      "Score: 67\n",
      "Total trains used: 34\n"
     ]
    }
   ],
   "source": [
    "def depth_limited_search(graph, target_cities, max_trains, depth_limit):\n",
    "    best_path, best_score, total_trains_used = None, float('-inf'), 0\n",
    "\n",
    "    def dfs(current_city, visited, score, remaining_targets, trains_used, depth):\n",
    "        nonlocal best_path, best_score, total_trains_used\n",
    "\n",
    "        if not remaining_targets:\n",
    "            if score > best_score:\n",
    "                best_path, best_score, total_trains_used = visited, score, trains_used\n",
    "            return\n",
    "\n",
    "        if depth == depth_limit:\n",
    "            return\n",
    "\n",
    "        for neighbor, route_trains in graph[current_city].items():\n",
    "            if neighbor not in [city for city, _ in visited] and trains_used + route_trains <= max_trains:\n",
    "                new_visited = visited + [(current_city, neighbor)]\n",
    "                new_remaining_targets = remaining_targets - set([neighbor]) if neighbor in remaining_targets else remaining_targets\n",
    "                route_score = score_route(route_trains)\n",
    "                new_score = score + route_score\n",
    "                dfs(neighbor, new_visited, new_score, new_remaining_targets, trains_used + route_trains, depth + 1)\n",
    "\n",
    "    for city in graph.keys():\n",
    "        dfs(city, [], 0, target_cities, 0, 0)\n",
    "\n",
    "    return best_path, best_score, total_trains_used\n",
    "\n",
    "def iterative_deepening_search(graph, target_cities, max_trains):\n",
    "    target_cities = set(target_cities)  # Convert target_cities to a set\n",
    "    depth_limit = 1\n",
    "    best_path, best_score, total_trains_used = None, float('-inf'), 0\n",
    "\n",
    "    while best_score == float('-inf'):\n",
    "        path, score, trains_used = depth_limited_search(graph, target_cities, max_trains, depth_limit)\n",
    "        if score > best_score:\n",
    "            best_path, best_score, total_trains_used = path, score, trains_used\n",
    "        depth_limit += 1\n",
    "\n",
    "    return best_path, best_score, total_trains_used\n",
    "\n",
    "target_cities = ['Salt Lake City', 'Montreal','Atlanta']\n",
    "max_trains = 45\n",
    "best_path, best_score, total_trains_used = iterative_deepening_search(graph, target_cities, max_trains)\n",
    "print(\"Highest scoring path:\", best_path)\n",
    "print(\"Score:\", best_score)\n",
    "print(\"Total trains used:\", total_trains_used)\n"
   ]
  },
  {
   "cell_type": "code",
   "execution_count": null,
   "id": "acbf1c02-30c0-49b6-b816-a01507f8aeac",
   "metadata": {},
   "outputs": [],
   "source": []
  }
 ],
 "metadata": {
  "kernelspec": {
   "display_name": "Python 3 (ipykernel)",
   "language": "python",
   "name": "python3"
  },
  "language_info": {
   "codemirror_mode": {
    "name": "ipython",
    "version": 3
   },
   "file_extension": ".py",
   "mimetype": "text/x-python",
   "name": "python",
   "nbconvert_exporter": "python",
   "pygments_lexer": "ipython3",
   "version": "3.9.16"
  }
 },
 "nbformat": 4,
 "nbformat_minor": 5
}
