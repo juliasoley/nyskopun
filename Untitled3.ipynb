{
 "cells": [
  {
   "cell_type": "code",
   "execution_count": 1,
   "id": "48d939ce-15c7-4c6c-a7eb-589109f5bbc4",
   "metadata": {},
   "outputs": [],
   "source": [
    "import itertools\n",
    "\n",
    "deildir = [\"J\", \"V\", \"B\", \"R\", \"E\", \"F\"]\n",
    "verkefni = {\n",
    "    \"Gufusöfnunarkerfi\": [(\"F\", 4), (\"V\", 24), (\"E\", 17), (\"J\", 30), (\"B\", 22), (\"R\", 27)],\n",
    "    \"Orkuframleiðslukerfi\": [(\"F\", 34), (\"J\", 24), (\"E\", 8), (\"R\", 36), (\"V\", 4), (\"B\", 5)],\n",
    "    \"Orkudreifingarkerfi\": [(\"V\", 32), (\"J\", 18), (\"R\", 26), (\"B\", 24), (\"F\", 10), (\"E\", 4)],\n",
    "    \"Mannvirki\": [(\"B\", 11), (\"F\", 20), (\"R\", 16), (\"J\", 19), (\"E\", 28), (\"V\", 7)],\n",
    "}\n"
   ]
  },
  {
   "cell_type": "code",
   "execution_count": 2,
   "id": "807fea35-a146-4b27-af68-fbf3a79bba5d",
   "metadata": {},
   "outputs": [],
   "source": [
    "def reikna_makespan(verkefni, rod):\n",
    "    heildarverktimi = {deild: 0 for deild in deildir}\n",
    "    \n",
    "    for r in rod:\n",
    "        for deild, timi in verkefni[r]:\n",
    "            heildarverktimi[deild] += timi\n",
    "            \n",
    "    return max(heildarverktimi.values())\n"
   ]
  },
  {
   "cell_type": "code",
   "execution_count": 4,
   "id": "9ed17a67-a706-4442-b539-ee20108409a7",
   "metadata": {},
   "outputs": [
    {
     "name": "stdout",
     "output_type": "stream",
     "text": [
      "Besta niðurröðun: ('Gufusöfnunarkerfi', 'Orkuframleiðslukerfi', 'Orkudreifingarkerfi', 'Mannvirki')\n",
      "Stysti heildartími (Makespan): 105\n"
     ]
    }
   ],
   "source": [
    "min_makespan = float(\"inf\")\n",
    "besta_rod = None\n",
    "\n",
    "for rod in itertools.permutations(verkefni.keys()):\n",
    "    makespan = reikna_makespan(verkefni, rod)\n",
    "    if makespan < min_makespan:\n",
    "        min_makespan = makespan\n",
    "        besta_rod = rod\n",
    "\n",
    "print(\"Besta niðurröðun:\", besta_rod)\n",
    "print(\"Stysti heildartími (Makespan):\", min_makespan)\n"
   ]
  }
 ],
 "metadata": {
  "kernelspec": {
   "display_name": "Python 3 (ipykernel)",
   "language": "python",
   "name": "python3"
  },
  "language_info": {
   "codemirror_mode": {
    "name": "ipython",
    "version": 3
   },
   "file_extension": ".py",
   "mimetype": "text/x-python",
   "name": "python",
   "nbconvert_exporter": "python",
   "pygments_lexer": "ipython3",
   "version": "3.9.13"
  }
 },
 "nbformat": 4,
 "nbformat_minor": 5
}
