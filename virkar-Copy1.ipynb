{
 "cells": [
  {
   "cell_type": "code",
   "execution_count": 1,
   "id": "binding-glance",
   "metadata": {},
   "outputs": [],
   "source": [
    "import warnings\n",
    "warnings.filterwarnings('ignore')\n",
    "\n",
    "import ipywidgets as widgets\n",
    "from IPython.display import display, clear_output"
   ]
  },
  {
   "cell_type": "code",
   "execution_count": 2,
   "id": "informal-powell",
   "metadata": {},
   "outputs": [],
   "source": [
    "\n",
    "#!jupyter nbextension enable --py widgetsnbextension --sys-prefix\n",
    "#!jupyter serverextension enable voila --sys-prefix"
   ]
  },
  {
   "cell_type": "code",
   "execution_count": 3,
   "id": "4830c8e3",
   "metadata": {},
   "outputs": [],
   "source": [
    "file = open(\"spil.png\", \"rb\")\n",
    "image = file.read()\n",
    "\n",
    "image_headline = widgets.Image(\n",
    "                    value=image,\n",
    "                    format='jpg',\n",
    "                    width='300'\n",
    "                )\n",
    "\n",
    "label_headline = widgets.Label(\n",
    "                    value='Ticket to ride',\n",
    "                    style={'description_width': 'initial'}\n",
    "                )\n",
    "\n",
    "vbox_headline = widgets.VBox([image_headline, label_headline])"
   ]
  },
  {
   "cell_type": "code",
   "execution_count": 4,
   "id": "28b3c19b",
   "metadata": {},
   "outputs": [],
   "source": [
    "\n",
    "city1=widgets.Combobox(\n",
    "    placeholder='City 1:',\n",
    "    options=['Atlanta','Boston','Calgary','Charleston','Chicago','Dallas','Denver','Duluth','El Paso','Helena',\n",
    "'Houston','Kansas City','Las Vegas','Little Rock','Los Angeles','Miami',\n",
    "'Montreal', 'Nashville','New Orleans','New York','Oklahoma City','Omaha','Phoenix','Pittsburgh','Portland',\n",
    "'Raleigh','Saint Louis','Salt Lake City','San Francisco','Santa Fe','Seattle','Sault St. Marie','Toronto','Vancouver','Washington','Winnipeg'],\n",
    "    description='Choose:',\n",
    "    ensure_option=True,\n",
    "    disabled=False\n",
    ")\n",
    "city2=widgets.Combobox(\n",
    "    \n",
    "    placeholder='City 2:',\n",
    "    options=['Atlanta','Boston','Calgary','Charleston','Chicago','Dallas','Denver','Duluth','El Paso','Helena',\n",
    "'Houston','Kansas City','Las Vegas','Little Rock','Los Angeles','Miami',\n",
    "'Montreal', 'Nashville','New Orleans','New York','Oklahoma City','Omaha','Phoenix','Pittsburgh','Portland',\n",
    "'Raleigh','Saint Louis','Salt Lake City','San Francisco','Santa Fe','Seattle','Sault St. Marie','Toronto','Vancouver','Washington','Winnipeg'],\n",
    "    description='Choose:',\n",
    "    ensure_option=True,\n",
    "    disabled=False\n",
    ")"
   ]
  },
  {
   "cell_type": "code",
   "execution_count": null,
   "id": "4e0eca6c",
   "metadata": {},
   "outputs": [],
   "source": []
  },
  {
   "cell_type": "code",
   "execution_count": 5,
   "id": "naval-night",
   "metadata": {},
   "outputs": [],
   "source": [
    "\n",
    "\n",
    "maxtrains = widgets.IntSlider(description='Max trains to be used',\n",
    "            value=45, # default value\n",
    "            min=0, \n",
    "            max=45,\n",
    "            step=1,\n",
    "            style={'description_width': 'initial', 'handle_color': '#16a085'} \n",
    "        )"
   ]
  },
  {
   "cell_type": "code",
   "execution_count": null,
   "id": "5cd61903",
   "metadata": {},
   "outputs": [],
   "source": []
  },
  {
   "cell_type": "code",
   "execution_count": null,
   "id": "thorough-royal",
   "metadata": {},
   "outputs": [],
   "source": [
    "\n",
    "\n"
   ]
  },
  {
   "cell_type": "code",
   "execution_count": 6,
   "id": "d0e82e42",
   "metadata": {},
   "outputs": [],
   "source": [
    "target_cities = [city1.value, city2.value]\n",
    "max_trains =maxtrains.value\n"
   ]
  },
  {
   "cell_type": "code",
   "execution_count": 7,
   "id": "ae3d62f8",
   "metadata": {},
   "outputs": [],
   "source": [
    "graph = {\n",
    "    'Atlanta': {'Charleston': 2, 'Miami': 5, 'Nashville': 1, 'New Orleans': 4, 'Raleigh': 2},\n",
    "    'Boston': {'Montreal': 2, 'New York': 2},\n",
    "    'Calgary': {'Helena': 4, 'Seattle': 4, 'Vancouver': 3, 'Winnipeg': 6},\n",
    "    'Charleston': {'Atlanta': 2, 'Miami': 4, 'Raleigh': 2},\n",
    "    'Chicago': {'Duluth': 3, 'Omaha': 4, 'Pittsburgh': 3, 'Saint Louis': 2, 'Toronto': 4},\n",
    "    'Dallas': {'El Paso': 4, 'Houston': 1, 'Little Rock': 2, 'Oklahoma City': 2},\n",
    "    'Denver': {'Helena': 4, 'Kansas City': 4, 'Oklahoma City': 4, 'Phoenix': 5, 'Salt Lake City': 3, 'Santa Fe': 2},\n",
    "    'Duluth': {'Chicago': 3, 'Helena': 6, 'Kansas City': 5, 'Omaha': 2, 'Sault St. Marie': 3, 'Toronto': 6, 'Winnipeg': 4},\n",
    "    'El Paso': {'Dallas': 4, 'Houston': 6, 'Los Angeles': 6, 'Oklahoma City': 5, 'Phoenix': 3, 'Santa Fe': 2},\n",
    "    'Helena': {'Calgary': 4, 'Denver': 4, 'Duluth': 6, 'Omaha': 5, 'Salt Lake City': 3, 'Seattle': 6, 'Winnipeg': 4},\n",
    "    'Houston': {'Dallas': 1, 'El Paso': 6, 'New Orleans': 2},\n",
    "    'Kansas City': {'Denver': 4, 'Duluth': 5, 'Omaha': 1, 'Oklahoma City': 2, 'Saint Louis': 2},\n",
    "    'Las Vegas': {'Los Angeles': 2, 'Salt Lake City': 3},\n",
    "    'Little Rock': {'Dallas': 2, 'Nashville': 3, 'New Orleans': 3, 'Oklahoma City': 2, 'Saint Louis': 2},\n",
    "    'Los Angeles': {'El Paso': 6, 'Las Vegas': 2, 'Phoenix': 3, 'San Francisco': 3},\n",
    "    'Miami': {'Atlanta': 5, 'Charleston': 4, 'New Orleans': 6},\n",
    "    'Montreal': {'Boston': 2, 'New York': 3, 'Sault St. Marie': 5, 'Toronto': 3},\n",
    "    'Nashville': {'Atlanta': 1, 'Little Rock': 3, 'Pittsburgh': 4, 'Raleigh': 3, 'Saint Louis': 2},\n",
    "    'New Orleans': {'Atlanta': 4, 'Houston': 2, 'Little Rock': 3, 'Miami': 6},\n",
    "    'New York': {'Boston': 2, 'Montreal': 3, 'Pittsburgh': 2, 'Washington': 2},\n",
    "    'Oklahoma City': {'Dallas': 2, 'Denver': 4, 'El Paso': 5, 'Kansas City': 2, 'Little Rock': 2},\n",
    "    'Omaha': {'Chicago': 4, 'Denver': 4, 'Duluth': 2, 'Helena': 5, 'Kansas City': 1},\n",
    "    'Phoenix': {'Denver': 5, 'El Paso': 3, 'Los Angeles': 3, 'Santa Fe': 3},\n",
    "    'Pittsburgh': {'Chicago': 3, 'Nashville': 4, 'New York': 2, 'Raleigh': 2, 'Saint Louis': 5, 'Toronto': 2, 'Washington': 2},\n",
    "    'Portland': {'Salt Lake City': 6, 'San Francisco': 5, 'Seattle': 1},\n",
    "    'Raleigh': {'Atlanta': 2, 'Charleston': 2, 'Nashville': 3, 'Pittsburgh': 2, 'Washington': 2},\n",
    "    'Saint Louis': {'Chicago': 2, 'Kansas City': 2, 'Little Rock': 2, 'Nashville': 2, 'Pittsburgh': 5},\n",
    "    'Salt Lake City': {'Denver': 3, 'Helena': 3, 'Las Vegas': 3, 'Portland': 6, 'San Francisco': 5},\n",
    "    'San Francisco': {'Los Angeles': 3, 'Portland': 5, 'Salt Lake City': 5},\n",
    "    'Santa Fe': {'Denver': 2, 'El Paso': 2, 'Phoenix': 3},\n",
    "    'Seattle': {'Calgary': 4, 'Helena': 6, 'Portland': 1, 'Vancouver': 1},\n",
    "    'Sault St. Marie': {'Duluth': 3, 'Montreal': 5, 'Toronto': 2, 'Winnipeg': 6},\n",
    "    'Toronto': {'Chicago': 4, 'Duluth': 6, 'Montreal': 3, 'Pittsburgh': 2, 'Sault St. Marie': 2},\n",
    "    'Vancouver': {'Calgary': 3, 'Seattle': 1},\n",
    "    'Washington': {'New York': 2, 'Pittsburgh': 2, 'Raleigh': 2},\n",
    "    'Winnipeg': {'Calgary': 6, 'Duluth': 4, 'Helena': 4, 'Sault St. Marie': 6}\n",
    "}\n",
    "def score_route(trains):\n",
    "    if trains == 1:\n",
    "        return 1\n",
    "    elif trains == 2:\n",
    "        return 2\n",
    "    elif trains == 3:\n",
    "        return 4\n",
    "    elif trains == 4:\n",
    "        return 7\n",
    "    elif trains == 5:\n",
    "        return 10\n",
    "    elif trains == 6:\n",
    "        return 15\n",
    "    else:\n",
    "        return 0\n",
    "    \n",
    "def depth_limited_search(graph, target_cities, max_trains, depth_limit):\n",
    "    best_path, best_score, total_trains_used = None, float('-inf'), 0\n",
    "\n",
    "    def dfs(current_city, visited, score, remaining_targets, trains_used, depth):\n",
    "        nonlocal best_path, best_score, total_trains_used\n",
    "\n",
    "        if depth == depth_limit:\n",
    "            return\n",
    "\n",
    "        for neighbor, route_trains in graph[current_city].items():\n",
    "            if neighbor not in [city for city, _ in visited] and trains_used + route_trains <= max_trains:\n",
    "                new_visited = visited + [(current_city, neighbor)]\n",
    "                new_remaining_targets = remaining_targets - set([neighbor]) if neighbor in remaining_targets else remaining_targets\n",
    "                route_score = score_route(route_trains)\n",
    "                new_score = score + route_score\n",
    "\n",
    "                if not new_remaining_targets:\n",
    "                    if new_score > best_score:\n",
    "                        best_path, best_score, total_trains_used = new_visited, new_score, trains_used + route_trains\n",
    "                    return\n",
    "\n",
    "                dfs(neighbor, new_visited, new_score, new_remaining_targets, trains_used + route_trains, depth + 1)\n",
    "\n",
    "    for city in target_cities:\n",
    "        remaining_targets = target_cities - set([city])\n",
    "        dfs(city, [], 0, remaining_targets, 0, 0)\n",
    "\n",
    "    return best_path, best_score, total_trains_used\n",
    "\n",
    "\n",
    "def iterative_deepening_search(graph, target_cities, max_trains):\n",
    "    target_cities = set(target_cities)  # Convert target_cities to a set\n",
    "    depth_limit = 1\n",
    "    max_depth_limit = 1000  # Set the maximum depth limit\n",
    "    best_path, best_score, total_trains_used = None, float('-inf'), 0\n",
    "\n",
    "    while best_path is None and depth_limit <= max_depth_limit:\n",
    "        path, score, trains_used = depth_limited_search(graph, target_cities, max_trains, depth_limit)\n",
    "        if score > best_score:\n",
    "            best_path, best_score, total_trains_used = path, score, trains_used\n",
    "        depth_limit += 1\n",
    "\n",
    "    if best_path is None:\n",
    "        return \"There are not enough trains to go between these cities.\", None, None\n",
    "    else:\n",
    "        return best_path, best_score, total_trains_used\n",
    "\n",
    "\n",
    "\n"
   ]
  },
  {
   "cell_type": "code",
   "execution_count": 8,
   "id": "d6092fa1",
   "metadata": {},
   "outputs": [],
   "source": [
    "button_send = widgets.Button(\n",
    "                description='Solve',\n",
    "                tooltip='Send',\n",
    "                style={'description_width': 'initial'}\n",
    "            )\n",
    "\n",
    "output = widgets.Output()\n",
    "\n",
    "\n",
    "\n",
    "\n",
    "def on_button_clicked(event):\n",
    "    with output:\n",
    "        clear_output()\n",
    "        target_cities = [city1.value, city2.value]\n",
    "        max_trains =maxtrains.value\n",
    "        best_path, best_score, total_trains_used = iterative_deepening_search(graph, target_cities, max_trains)\n",
    "        print(\"Best path:\", best_path)\n",
    "        print(\"Score:\", best_score)\n",
    "        print(\"Total trains used:\", total_trains_used)\n",
    "\n",
    "button_send.on_click(on_button_clicked)\n",
    "\n",
    "vbox_result = widgets.VBox([button_send, output])"
   ]
  },
  {
   "cell_type": "code",
   "execution_count": 9,
   "id": "guilty-ending",
   "metadata": {},
   "outputs": [],
   "source": [
    "# stacked right hand side\n",
    "\n",
    "text_0 = widgets.HTML(value=\"<h1>Find the best route to take between cities in The original Ticket to ride</h1>\")\n",
    "\n",
    "\n",
    "vbox_text = widgets.VBox([text_0,city1,city2, maxtrains, vbox_result])"
   ]
  },
  {
   "cell_type": "code",
   "execution_count": 10,
   "id": "earlier-saturday",
   "metadata": {
    "scrolled": true
   },
   "outputs": [
    {
     "data": {
      "application/vnd.jupyter.widget-view+json": {
       "model_id": "f5d49ca7e8ff4ad29a8de4391e85a9b4",
       "version_major": 2,
       "version_minor": 0
      },
      "text/plain": [
       "HBox(children=(VBox(children=(HTML(value='<h1>Find the best route to take between cities in The original Ticke…"
      ]
     },
     "metadata": {},
     "output_type": "display_data"
    }
   ],
   "source": [
    "page = widgets.HBox([vbox_text])\n",
    "display(page)"
   ]
  },
  {
   "cell_type": "code",
   "execution_count": null,
   "id": "a1f72e35",
   "metadata": {},
   "outputs": [],
   "source": []
  },
  {
   "cell_type": "code",
   "execution_count": 11,
   "id": "according-supervisor",
   "metadata": {},
   "outputs": [],
   "source": [
    "#!pip freeze  > requirements.txt"
   ]
  },
  {
   "cell_type": "code",
   "execution_count": null,
   "id": "57a6c1c2",
   "metadata": {},
   "outputs": [],
   "source": []
  }
 ],
 "metadata": {
  "kernelspec": {
   "display_name": "Python 3 (ipykernel)",
   "language": "python",
   "name": "python3"
  },
  "language_info": {
   "codemirror_mode": {
    "name": "ipython",
    "version": 3
   },
   "file_extension": ".py",
   "mimetype": "text/x-python",
   "name": "python",
   "nbconvert_exporter": "python",
   "pygments_lexer": "ipython3",
   "version": "3.9.16"
  }
 },
 "nbformat": 4,
 "nbformat_minor": 5
}
