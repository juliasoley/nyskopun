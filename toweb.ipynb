{
 "cells": [
  {
   "cell_type": "code",
   "execution_count": 2,
   "id": "ee713bc8-c167-4bec-94e2-2ff7e99601df",
   "metadata": {},
   "outputs": [],
   "source": [
    "import ipywidgets as widgets\n",
    "from IPython.display import display\n"
   ]
  },
  {
   "cell_type": "code",
   "execution_count": 3,
   "id": "6cbf85c8-704b-41c4-bb1b-84f315f365ea",
   "metadata": {},
   "outputs": [],
   "source": [
    "target_cities_input = widgets.Textarea(\n",
    "    description='Target Cities:',\n",
    "    placeholder='Enter target cities separated by commas',\n",
    "    layout=widgets.Layout(width='50%')\n",
    ")\n",
    "max_trains_input = widgets.IntText(\n",
    "    description='Max Trains:',\n",
    "    placeholder='Enter max trains',\n",
    "    layout=widgets.Layout(width='50%')\n",
    ")\n"
   ]
  },
  {
   "cell_type": "code",
   "execution_count": 4,
   "id": "2a4e1040-b924-4141-ac02-a920fa112f6c",
   "metadata": {},
   "outputs": [
    {
     "data": {
      "application/vnd.jupyter.widget-view+json": {
       "model_id": "59482e54f9304bc78b8eabd49ffd1746",
       "version_major": 2,
       "version_minor": 0
      },
      "text/plain": [
       "Textarea(value='', description='Target Cities:', layout=Layout(width='50%'), placeholder='Enter target cities …"
      ]
     },
     "metadata": {},
     "output_type": "display_data"
    },
    {
     "data": {
      "application/vnd.jupyter.widget-view+json": {
       "model_id": "1c316e03a85a4dd09647583c4e2b3b02",
       "version_major": 2,
       "version_minor": 0
      },
      "text/plain": [
       "IntText(value=0, description='Max Trains:', layout=Layout(width='50%'))"
      ]
     },
     "metadata": {},
     "output_type": "display_data"
    }
   ],
   "source": [
    "display(target_cities_input, max_trains_input)\n"
   ]
  },
  {
   "cell_type": "code",
   "execution_count": 5,
   "id": "f66e5e27-0e88-427b-b01e-978a89d43c29",
   "metadata": {},
   "outputs": [
    {
     "data": {
      "application/vnd.jupyter.widget-view+json": {
       "model_id": "c710e09b1cf44c8c92aebef96fb096bc",
       "version_major": 2,
       "version_minor": 0
      },
      "text/plain": [
       "Button(description='Search', style=ButtonStyle())"
      ]
     },
     "metadata": {},
     "output_type": "display_data"
    },
    {
     "data": {
      "application/vnd.jupyter.widget-view+json": {
       "model_id": "60c224b5d4d64a47b2e9ea100c42aa1e",
       "version_major": 2,
       "version_minor": 0
      },
      "text/plain": [
       "Output()"
      ]
     },
     "metadata": {},
     "output_type": "display_data"
    }
   ],
   "source": [
    "search_button = widgets.Button(description='Search')\n",
    "output = widgets.Output()\n",
    "display(search_button, output)\n"
   ]
  },
  {
   "cell_type": "code",
   "execution_count": null,
   "id": "467de7d6-0da9-4d78-a4cd-9a0fb80ba3c4",
   "metadata": {},
   "outputs": [],
   "source": [
    "import kodi  # Replace with the name of the file containing your search functions.\n",
    "\n",
    "def on_search_button_click(button):\n",
    "    with output:\n",
    "        output.clear_output()\n",
    "        \n",
    "        # Get input values\n",
    "        target_cities = [city.strip() for city in target_cities_input.value.split(',')]\n",
    "        max_trains = max_trains_input.value\n",
    "        \n",
    "        # Call your search function\n",
    "        best_path, best_score, total_trains_used = your_search_module.iterative_deepening_search(graph, target_cities, max_trains)\n",
    "        \n",
    "        # Display the results\n",
    "        print(f'Highest scoring path: {best_path}')\n",
    "        print(f'Score: {best_score}')\n",
    "        print(f'Total trains used: {total_trains_used}')\n",
    "\n",
    "search_button.on_click(on_search_button_click)\n"
   ]
  },
  {
   "cell_type": "code",
   "execution_count": 6,
   "id": "1600517a-275c-4d0d-8df5-352fcf357012",
   "metadata": {},
   "outputs": [
    {
     "ename": "SyntaxError",
     "evalue": "invalid syntax (2742203543.py, line 1)",
     "output_type": "error",
     "traceback": [
      "\u001b[1;36m  File \u001b[1;32m\"C:\\Users\\julia\\AppData\\Local\\Temp\\ipykernel_31980\\2742203543.py\"\u001b[1;36m, line \u001b[1;32m1\u001b[0m\n\u001b[1;33m    voila toweb.ipynb\u001b[0m\n\u001b[1;37m          ^\u001b[0m\n\u001b[1;31mSyntaxError\u001b[0m\u001b[1;31m:\u001b[0m invalid syntax\n"
     ]
    }
   ],
   "source": [
    "voila toweb.ipynb\n"
   ]
  },
  {
   "cell_type": "code",
   "execution_count": 7,
   "id": "b8a4b466-a453-4bec-85a8-58dba039211c",
   "metadata": {},
   "outputs": [
    {
     "name": "stdout",
     "output_type": "stream",
     "text": [
      "Name: voila\n",
      "Version: 0.4.0\n",
      "Summary: Voilà turns Jupyter notebooks into standalone web applications\n",
      "Home-page: \n",
      "Author: Voila Development Team\n",
      "Author-email: \n",
      "License: BSD License\n",
      "        \n",
      "        Copyright (c) 2018 Voilà contributors.\n",
      "        All rights reserved.\n",
      "        \n",
      "        Redistribution and use in source and binary forms, with or without\n",
      "        modification, are permitted provided that the following conditions are met:\n",
      "        \n",
      "          a. Redistributions of source code must retain the above copyright notice,\n",
      "             this list of conditions and the following disclaimer.\n",
      "        \n",
      "          b. Redistributions in binary form must reproduce the above copyright\n",
      "             notice, this list of conditions and the following disclaimer in the\n",
      "             documentation and/or other materials provided with the distribution.\n",
      "        \n",
      "          c. Neither the name of the authors nor the names of the contributors to\n",
      "             this package may be used to endorse or promote products\n",
      "             derived from this software without specific prior written\n",
      "             permission.\n",
      "        \n",
      "        \n",
      "        THIS SOFTWARE IS PROVIDED BY THE COPYRIGHT HOLDERS AND CONTRIBUTORS \"AS IS\"\n",
      "        AND ANY EXPRESS OR IMPLIED WARRANTIES, INCLUDING, BUT NOT LIMITED TO, THE\n",
      "        IMPLIED WARRANTIES OF MERCHANTABILITY AND FITNESS FOR A PARTICULAR PURPOSE\n",
      "        ARE DISCLAIMED. IN NO EVENT SHALL THE REGENTS OR CONTRIBUTORS BE LIABLE FOR\n",
      "        ANY DIRECT, INDIRECT, INCIDENTAL, SPECIAL, EXEMPLARY, OR CONSEQUENTIAL\n",
      "        DAMAGES (INCLUDING, BUT NOT LIMITED TO, PROCUREMENT OF SUBSTITUTE GOODS OR\n",
      "        SERVICES; LOSS OF USE, DATA, OR PROFITS; OR BUSINESS INTERRUPTION) HOWEVER\n",
      "        CAUSED AND ON ANY THEORY OF LIABILITY, WHETHER IN CONTRACT, STRICT\n",
      "        LIABILITY, OR TORT (INCLUDING NEGLIGENCE OR OTHERWISE) ARISING IN ANY WAY\n",
      "        OUT OF THE USE OF THIS SOFTWARE, EVEN IF ADVISED OF THE POSSIBILITY OF SUCH\n",
      "        DAMAGE.\n",
      "Location: c:\\users\\julia\\anaconda3\\lib\\site-packages\n",
      "Requires: jupyter-client, jupyter-core, jupyter-server, jupyterlab-server, nbclient, nbconvert, traitlets, websockets\n",
      "Required-by: \n",
      "Note: you may need to restart the kernel to use updated packages.\n"
     ]
    }
   ],
   "source": [
    "pip show voila\n"
   ]
  }
 ],
 "metadata": {
  "kernelspec": {
   "display_name": "Python 3 (ipykernel)",
   "language": "python",
   "name": "python3"
  },
  "language_info": {
   "codemirror_mode": {
    "name": "ipython",
    "version": 3
   },
   "file_extension": ".py",
   "mimetype": "text/x-python",
   "name": "python",
   "nbconvert_exporter": "python",
   "pygments_lexer": "ipython3",
   "version": "3.9.13"
  }
 },
 "nbformat": 4,
 "nbformat_minor": 5
}
