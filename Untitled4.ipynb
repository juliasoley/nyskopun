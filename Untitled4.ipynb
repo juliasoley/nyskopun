{
 "cells": [
  {
   "cell_type": "code",
   "execution_count": null,
   "id": "62362305-2405-4a9f-8114-0beb97489190",
   "metadata": {},
   "outputs": [],
   "source": [
    "import itertools\n",
    "\n",
    "deildir = [\"J\", \"V\", \"B\", \"R\", \"E\", \"F\"]\n",
    "verkefni = {\n",
    "    \"Gufusöfnunarkerfi\": [(\"F\", 4), (\"V\", 24), (\"E\", 17), (\"J\", 30), (\"B\", 22), (\"R\", 27)],\n",
    "    \"Orkuframleiðslukerfi\": [(\"F\", 34), (\"J\", 24), (\"E\", 8), (\"R\", 36), (\"V\", 4), (\"B\", 5)],\n",
    "    \"Orkudreifingarkerfi\": [(\"V\", 32), (\"J\", 18), (\"R\", 26), (\"B\", 24), (\"F\", 10), (\"E\", 4)],\n",
    "    \"Mannvirki\": [(\"B\", 11), (\"F\", 20), (\"R\", 16), (\"J\", 19), (\"E\", 28), (\"V\", 7)],\n",
    "}\n"
   ]
  },
  {
   "cell_type": "code",
   "execution_count": null,
   "id": "7c3ce2f7-dbca-4daf-bedb-26a284159df9",
   "metadata": {},
   "outputs": [],
   "source": [
    "def reikna_makespan(verkefni, rod):\n",
    "    heildarverktimi = {deild: 0 for deild in deildir}\n",
    "    \n",
    "    for verk in verkefni:\n",
    "        for r in rod[verk]:\n",
    "            deild, timi = verkefni[verk][r-1]\n",
    "            heildarverktimi[deild] += timi\n",
    "            \n",
    "    return max(heildarverktimi.values())\n"
   ]
  },
  {
   "cell_type": "code",
   "execution_count": null,
   "id": "12d9125b-aea9-471e-9a33-8c151a7607fe",
   "metadata": {},
   "outputs": [],
   "source": [
    "min_makespan = float(\"inf\")\n",
    "besta_rod = {}\n",
    "\n",
    "for verk in verkefni:\n",
    "    min_makespan_verk = float(\"inf\")\n",
    "    besta_rod_verk = None\n",
    "    for rod in itertools.permutations(range(1, len(deildir)+1)):\n",
    "        makespan = reikna_makespan({verk: verkefni[verk]}, {verk: rod})\n",
    "        if makespan < min_makespan_verk:\n",
    "            min_makespan_verk = makespan\n",
    "            besta_rod_verk = rod\n",
    "    besta_rod[verk] = besta_rod_verk\n",
    "    min_makespan = max(min_makespan, min_makespan_verk)\n",
    "\n",
    "print\n"
   ]
  }
 ],
 "metadata": {
  "kernelspec": {
   "display_name": "Python 3 (ipykernel)",
   "language": "python",
   "name": "python3"
  },
  "language_info": {
   "codemirror_mode": {
    "name": "ipython",
    "version": 3
   },
   "file_extension": ".py",
   "mimetype": "text/x-python",
   "name": "python",
   "nbconvert_exporter": "python",
   "pygments_lexer": "ipython3",
   "version": "3.9.13"
  }
 },
 "nbformat": 4,
 "nbformat_minor": 5
}
