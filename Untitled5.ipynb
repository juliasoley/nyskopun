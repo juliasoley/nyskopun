{
 "cells": [
  {
   "cell_type": "code",
   "execution_count": 2,
   "id": "aefda39c-f538-45a6-8aa5-b1c14540a157",
   "metadata": {},
   "outputs": [
    {
     "ename": "KeyError",
     "evalue": "'VÞ. 1'",
     "output_type": "error",
     "traceback": [
      "\u001b[1;31m---------------------------------------------------------------------------\u001b[0m",
      "\u001b[1;31mKeyError\u001b[0m                                  Traceback (most recent call last)",
      "\u001b[1;32m~\\AppData\\Local\\Temp\\ipykernel_17604\\3925426559.py\u001b[0m in \u001b[0;36m<module>\u001b[1;34m\u001b[0m\n\u001b[0;32m     24\u001b[0m \u001b[1;33m\u001b[0m\u001b[0m\n\u001b[0;32m     25\u001b[0m \u001b[1;32mfor\u001b[0m \u001b[0mrod\u001b[0m \u001b[1;32min\u001b[0m \u001b[0mitertools\u001b[0m\u001b[1;33m.\u001b[0m\u001b[0mpermutations\u001b[0m\u001b[1;33m(\u001b[0m\u001b[0mverkthaettir\u001b[0m\u001b[1;33m)\u001b[0m\u001b[1;33m:\u001b[0m\u001b[1;33m\u001b[0m\u001b[1;33m\u001b[0m\u001b[0m\n\u001b[1;32m---> 26\u001b[1;33m     \u001b[0mmakespan\u001b[0m \u001b[1;33m=\u001b[0m \u001b[0mreikna_makespan\u001b[0m\u001b[1;33m(\u001b[0m\u001b[0mverkefni\u001b[0m\u001b[1;33m,\u001b[0m \u001b[0mrod\u001b[0m\u001b[1;33m)\u001b[0m\u001b[1;33m\u001b[0m\u001b[1;33m\u001b[0m\u001b[0m\n\u001b[0m\u001b[0;32m     27\u001b[0m     \u001b[1;32mif\u001b[0m \u001b[0mmakespan\u001b[0m \u001b[1;33m<\u001b[0m \u001b[0mmin_makespan\u001b[0m\u001b[1;33m:\u001b[0m\u001b[1;33m\u001b[0m\u001b[1;33m\u001b[0m\u001b[0m\n\u001b[0;32m     28\u001b[0m         \u001b[0mmin_makespan\u001b[0m \u001b[1;33m=\u001b[0m \u001b[0mmakespan\u001b[0m\u001b[1;33m\u001b[0m\u001b[1;33m\u001b[0m\u001b[0m\n",
      "\u001b[1;32m~\\AppData\\Local\\Temp\\ipykernel_17604\\3925426559.py\u001b[0m in \u001b[0;36mreikna_makespan\u001b[1;34m(verkefni, rod)\u001b[0m\n\u001b[0;32m     15\u001b[0m \u001b[1;33m\u001b[0m\u001b[0m\n\u001b[0;32m     16\u001b[0m     \u001b[1;32mfor\u001b[0m \u001b[0mr\u001b[0m \u001b[1;32min\u001b[0m \u001b[0mrod\u001b[0m\u001b[1;33m:\u001b[0m\u001b[1;33m\u001b[0m\u001b[1;33m\u001b[0m\u001b[0m\n\u001b[1;32m---> 17\u001b[1;33m         \u001b[1;32mfor\u001b[0m \u001b[0mverkt\u001b[0m\u001b[1;33m,\u001b[0m \u001b[1;33m(\u001b[0m\u001b[0mdeild\u001b[0m\u001b[1;33m,\u001b[0m \u001b[0mtimi\u001b[0m\u001b[1;33m)\u001b[0m \u001b[1;32min\u001b[0m \u001b[0mverkefni\u001b[0m\u001b[1;33m[\u001b[0m\u001b[0mr\u001b[0m\u001b[1;33m]\u001b[0m\u001b[1;33m.\u001b[0m\u001b[0mitems\u001b[0m\u001b[1;33m(\u001b[0m\u001b[1;33m)\u001b[0m\u001b[1;33m:\u001b[0m\u001b[1;33m\u001b[0m\u001b[1;33m\u001b[0m\u001b[0m\n\u001b[0m\u001b[0;32m     18\u001b[0m             \u001b[0mheildarverktimi\u001b[0m\u001b[1;33m[\u001b[0m\u001b[0mdeild\u001b[0m\u001b[1;33m]\u001b[0m \u001b[1;33m+=\u001b[0m \u001b[0mtimi\u001b[0m\u001b[1;33m\u001b[0m\u001b[1;33m\u001b[0m\u001b[0m\n\u001b[0;32m     19\u001b[0m \u001b[1;33m\u001b[0m\u001b[0m\n",
      "\u001b[1;31mKeyError\u001b[0m: 'VÞ. 1'"
     ]
    }
   ],
   "source": [
    "import itertools\n",
    "\n",
    "deildir = [\"J\", \"V\", \"B\", \"R\", \"E\", \"F\"]\n",
    "verkthaettir = [\"VÞ. 1\", \"VÞ. 2\", \"VÞ. 3\", \"VÞ. 4\", \"VÞ. 5\", \"VÞ. 6\"]\n",
    "\n",
    "verkefni = {\n",
    "    \"Gufusöfnunarkerfi\": dict(zip(verkthaettir, [(\"F\", 4), (\"V\", 24), (\"E\", 17), (\"J\", 30), (\"B\", 22), (\"R\", 27)])),\n",
    "    \"Orkuframleiðslukerfi\": dict(zip(verkthaettir, [(\"F\", 34), (\"J\", 24), (\"E\", 8), (\"R\", 36), (\"V\", 4), (\"B\", 5)])),\n",
    "    \"Orkudreifingarkerfi\": dict(zip(verkthaettir, [(\"V\", 32), (\"J\", 18), (\"R\", 26), (\"B\", 24), (\"F\", 10), (\"E\", 4)])),\n",
    "    \"Mannvirki\": dict(zip(verkthaettir, [(\"B\", 11), (\"F\", 20), (\"R\", 16), (\"J\", 19), (\"E\", 28), (\"V\", 7)])),\n",
    "}\n",
    "\n",
    "def reikna_makespan(verkefni, rod):\n",
    "    heildarverktimi = {deild: 0 for deild in deildir}\n",
    "    \n",
    "    for r in rod:\n",
    "        for verkt, (deild, timi) in verkefni[r].items():\n",
    "            heildarverktimi[deild] += timi\n",
    "            \n",
    "    return max(heildarverktimi.values())\n",
    "\n",
    "min_makespan = float(\"inf\")\n",
    "besta_rod = None\n",
    "\n",
    "for rod in itertools.permutations(verkthaettir):\n",
    "    makespan = reikna_makespan(verkefni, rod)\n",
    "    if makespan < min_makespan:\n",
    "        min_makespan = makespan\n",
    "        besta_rod = rod\n",
    "\n",
    "print(\"Besta niðurröðun verkþátta:\", besta_rod)\n",
    "print(\"Stysti heildartími (Makespan):\", min_makespan)\n"
   ]
  }
 ],
 "metadata": {
  "kernelspec": {
   "display_name": "Python 3 (ipykernel)",
   "language": "python",
   "name": "python3"
  },
  "language_info": {
   "codemirror_mode": {
    "name": "ipython",
    "version": 3
   },
   "file_extension": ".py",
   "mimetype": "text/x-python",
   "name": "python",
   "nbconvert_exporter": "python",
   "pygments_lexer": "ipython3",
   "version": "3.9.13"
  }
 },
 "nbformat": 4,
 "nbformat_minor": 5
}
